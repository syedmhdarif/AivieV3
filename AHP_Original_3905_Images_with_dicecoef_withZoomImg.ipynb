{
 "cells": [
  {
   "cell_type": "markdown",
   "id": "crazy-honey",
   "metadata": {},
   "source": [
    "# EXPERIMENT 1 : AHP\n",
    "\n",
    "<ol>\n",
    "<li> Continuation from  <b> 9th_Exp_11.6K_100epoch_zoomix </b> </li>\n",
    "<li> No Augmentation </li>\n",
    "<li> dice_coef </li>\n",
    "</ol>\n"
   ]
  },
  {
   "cell_type": "code",
   "execution_count": 1,
   "id": "refined-melissa",
   "metadata": {},
   "outputs": [
    {
     "name": "stdout",
     "output_type": "stream",
     "text": [
      "[PhysicalDevice(name='/physical_device:CPU:0', device_type='CPU'), PhysicalDevice(name='/physical_device:GPU:0', device_type='GPU')]\n",
      "Num GPUs Available:  1\n"
     ]
    }
   ],
   "source": [
    "import os\n",
    "#import cv2\n",
    "import numpy as np\n",
    "import tensorflow as tf\n",
    "import random\n",
    "from glob import glob\n",
    "from sklearn.model_selection import train_test_split\n",
    "from sklearn.preprocessing import StandardScaler\n",
    "import keras as K\n",
    "from tensorflow.python.util.tf_export import tf_export\n",
    "from tensorflow.keras.optimizers import Adam, SGD\n",
    "from tensorflow.keras.preprocessing.image import ImageDataGenerator\n",
    "from tensorflow.keras.callbacks import EarlyStopping, ReduceLROnPlateau\n",
    "from tensorflow.keras.metrics import Recall, Precision\n",
    "from tensorflow.data import AUTOTUNE\n",
    "from tensorflow.keras.layers.experimental import preprocessing\n",
    "from modules.keras_models import MobileNetV3SmallSegmentation\n",
    "from tensorflow.image import ResizeMethod\n",
    "\n",
    "#physical_devices = tf.config.list_physical_devices('GPU')\n",
    "#tf.config.experimental.set_memory_growth(physical_devices[0], True)\n",
    "\n",
    "print(tf.config.list_physical_devices())\n",
    "print(\"Num GPUs Available: \", len(tf.config.experimental.list_physical_devices('GPU')))\n",
    "#tf.test.is_gpu_available(  cuda_only=False, min_cuda_compute_capability=None)\n",
    "\n",
    "\n",
    "import logging\n",
    "logging.getLogger(\"tensorflow\").setLevel(logging.CRITICAL)\n",
    "\n",
    "import matplotlib.pyplot as plt\n",
    "%matplotlib inline\n",
    "\n",
    "\n",
    "# physical_devices = tf.config.list_physical_devices('GPU')\n",
    "# tf.config.experimental.set_memory_growth(physical_devices[0], True)\n",
    "\n",
    "#os.environ[\"CUDA_VISIBLE_DEVICES\"]=\"-1\"\n",
    "\n",
    "#tf.config.run_functions_eagerly(True)\n",
    "\n",
    "np.random.seed(1337)"
   ]
  },
  {
   "cell_type": "code",
   "execution_count": 2,
   "id": "elementary-dutch",
   "metadata": {},
   "outputs": [],
   "source": [
    "normalizer = preprocessing.Normalization()\n",
    "\n",
    "def load_images(imagePath, labelPath):\n",
    "    # read the image from disk, decode it, convert the data type to\n",
    "    # floating point, and resize it\n",
    "    image = tf.io.read_file(imagePath)\n",
    "    image = tf.image.decode_png(image, channels=3)\n",
    "    image = tf.image.convert_image_dtype(image, dtype=tf.float32)\n",
    "    image = tf.image.resize(image, (224, 224))\n",
    "\n",
    "    #image = tf.image.per_image_standardization(image)\n",
    "    \n",
    "    label = tf.io.read_file(labelPath)\n",
    "    label = tf.image.decode_png(label, channels=3)\n",
    "    label = tf.image.rgb_to_grayscale(label)\n",
    "    label = tf.image.convert_image_dtype(label, dtype=tf.float32)\n",
    "    #label = tf.image.per_image_standardization(label)\n",
    "    label = tf.image.resize(label, (224, 224))\n",
    "\n",
    "    # return the image and the label\n",
    "    return (image, label)\n",
    "\n",
    "def augment_using_ops(images, labels):\n",
    "    images = tf.image.random_brightness(images, 0.2)\n",
    "    images = tf.image.random_contrast(images, 0.5, 2.0)\n",
    "    images = tf.image.random_saturation(images, 0.75, 1.25)\n",
    "    images = tf.image.random_hue(images, 0.1)\n",
    "    return (images, labels)"
   ]
  },
  {
   "cell_type": "code",
   "execution_count": 3,
   "id": "bizarre-daughter",
   "metadata": {},
   "outputs": [],
   "source": [
    "#PATH = \"Z://AIVie//Patent//siamese-contrastive-pyimage//experiment//Foreground//Semantic-segmentation-with-MobileNetV3//Semantic_Segmn_Master//CVC-612//\"\n",
    "#PATH = \"dataset//\"\n",
    "#PATH = \"Z://AIVie//Patent//siamese-contrastive-pyimage//experiment//Foreground//dataset//AHP//train//\"\n",
    "#PATH =  \"Z://AIVie//Patent//siamese-contrastive-pyimage//experiment//Foreground//dataset//surveil//indoorDataset//indoorDataset//\"\n",
    "PATH =  r\"C:\\Users\\alext\\Desktop\\dataset\\AHP\"\n",
    "CLASS_NUM = 1\n",
    "SMOOTH = 1e-15\n",
    "INIT_LR = 1e-2\n",
    "#TEST_SPLIT = 0.05\n",
    "VAL_SPLIT = 0.2\n",
    "IMAGE_SIZE = 224\n",
    "EPOCHS = 100\n",
    "BATCH = 32\n",
    "\n",
    "#images = sorted(glob(os.path.join(PATH, \"imageDataset//train/*\")))\n",
    "#masks = sorted(glob(os.path.join(PATH, \"pixelLabelDataset//train/*\")))\n",
    "\n",
    "#images = sorted(glob(os.path.join(PATH, \"JPEGImages/*\")))\n",
    "#masks = sorted(glob(os.path.join(PATH, \"Annotations/*\")))\n",
    "\n",
    "images = sorted(glob(os.path.join(PATH, \"AHP3k/*\")))\n",
    "masks = sorted(glob(os.path.join(PATH, \"AHP3kMasking/*\")))\n",
    "\n",
    "TOTAL_SIZE = len(images)\n",
    "VALID_SIZE = int(VAL_SPLIT * TOTAL_SIZE)\n",
    "#TEST_SIZE = int(TEST_SPLIT * TOTAL_SIZE)"
   ]
  },
  {
   "cell_type": "code",
   "execution_count": 4,
   "id": "quarterly-maintenance",
   "metadata": {},
   "outputs": [],
   "source": [
    "def dice_coef(y_true, y_pred):\n",
    "    y_true = tf.keras.layers.Flatten()(y_true)\n",
    "    y_pred = tf.keras.layers.Flatten()(y_pred)\n",
    "    intersection = tf.reduce_sum(y_true * y_pred)\n",
    "    return (2. * intersection + SMOOTH) / (tf.reduce_sum(y_true) + tf.reduce_sum(y_pred) + SMOOTH)\n",
    "\n",
    "def dice_loss(y_true, y_pred):\n",
    "    return 1.0 - dice_coef(y_true, y_pred)\n",
    "\n",
    "#def MeanIOU(y_true, y_pred):\n",
    "\n",
    "    #m = tf.keras.metrics.MeanIoU(CLASS_NUM)\n",
    "    #meaniou = m.update_state(tf.argmax(y_true, axis=-1), tf.argmax(y_pred, axis=-1))\n",
    "    #return meaniou\n",
    "\n",
    "    \n",
    "#def mean_iou(y_true, y_pred):\n",
    "    \n",
    "    #y_pred = tf.cast((y_pred > 0.5), tf.int32)\n",
    "    #score, up_opt = tf.compat.v1.metrics.mean_iou(y_true, y_pred, CLASS_NUM)\n",
    "    #tf.compat.v1.Session().run(tf.compat.v1.local_variables_initializer())\n",
    "    #with tf.control_dependencies([up_opt]):\n",
    "        #score = tf.identity(score)\n",
    "    #return K.mean(K.stack(prec), axis=0)\n",
    "\n",
    "def IoU_loss(y_true, y_pred):\n",
    "\n",
    "    numerator = tf.reduce_sum(y_true * y_pred)\n",
    "    denominator = tf.reduce_sum(y_true + y_pred) - numerator \n",
    "\n",
    "    jac =  numerator / (denominator + tf.keras.backend.epsilon())\n",
    "\n",
    "    return 1 - jac\n",
    "\n",
    "def IoU(y_true, y_pred, t=0.5):\n",
    "\n",
    "\n",
    "    y_pred_ = tf.cast(y_pred > t, dtype=tf.int32)\n",
    "    y_true = tf.cast(y_true, dtype=tf.int32)\n",
    "\n",
    "    TP = tf.math.count_nonzero(y_pred_ * y_true)\n",
    "    FP = tf.math.count_nonzero(y_pred_ * (y_true - 1))\n",
    "    FN = tf.math.count_nonzero((y_pred_ - 1) * y_true)\n",
    "\n",
    "    jac = tf.cond(tf.greater((TP + FP + FN), 0), lambda: TP / (TP + FP + FN),\n",
    "                  lambda: tf.cast(0.000, dtype='float64'))\n",
    "\n",
    "    return jac"
   ]
  },
  {
   "cell_type": "code",
   "execution_count": 5,
   "id": "august-basics",
   "metadata": {},
   "outputs": [
    {
     "data": {
      "text/plain": [
       "11671"
      ]
     },
     "execution_count": 5,
     "metadata": {},
     "output_type": "execute_result"
    }
   ],
   "source": [
    "len(masks)"
   ]
  },
  {
   "cell_type": "code",
   "execution_count": 6,
   "id": "interior-stephen",
   "metadata": {},
   "outputs": [],
   "source": [
    "#split IMAGES data into train and validation set\n",
    "train_x, valid_x = train_test_split(images, test_size=VALID_SIZE, random_state=42)\n",
    "\n",
    "#split MASKS data into train and validation set\n",
    "train_y, valid_y = train_test_split(masks, test_size=VALID_SIZE, random_state=42)\n",
    "\n",
    "\n",
    "#split IMAGES data into  test set\n",
    "#train_x, test_x = train_test_split(train_x, test_size=TEST_SIZE, random_state=42)\n",
    "\n",
    "#split MASKS data into test set\n",
    "#train_y, test_y = train_test_split(train_y, test_size=TEST_SIZE, random_state=42)"
   ]
  },
  {
   "cell_type": "code",
   "execution_count": 7,
   "id": "surprised-arbitration",
   "metadata": {},
   "outputs": [
    {
     "data": {
      "text/plain": [
       "9337"
      ]
     },
     "execution_count": 7,
     "metadata": {},
     "output_type": "execute_result"
    }
   ],
   "source": [
    "len(train_x)"
   ]
  },
  {
   "cell_type": "code",
   "execution_count": 8,
   "id": "vocal-constitutional",
   "metadata": {},
   "outputs": [],
   "source": [
    "normalization_layer = tf.keras.layers.experimental.preprocessing.Rescaling(1./255)\n",
    "\n",
    "# build the training dataset and data input pipeline\n",
    "trainDS = tf.data.Dataset.from_tensor_slices((train_x, train_y))\n",
    "#trainDS = train_ds.map(lambda x, y: (normalization_layer(x), y))\n",
    "trainDS = (trainDS\n",
    "    .map(load_images, num_parallel_calls=AUTOTUNE)\n",
    "    .cache()\n",
    "    .batch(BATCH)\n",
    "    .prefetch(AUTOTUNE)\n",
    ")\n",
    "\n",
    "#trainDS = trainDS.map(lambda x, y: (normalization_layer(x), y))\n",
    "#image_batch, labels_batch = next(iter(normalized_ds))\n",
    "\n",
    "# build the validation dataset and data input pipeline\n",
    "valDS = tf.data.Dataset.from_tensor_slices((valid_x, valid_y))\n",
    "valDS = (valDS\n",
    "    .map(load_images, num_parallel_calls=AUTOTUNE)\n",
    "    .cache()\n",
    "    .batch(BATCH)\n",
    "    .prefetch(AUTOTUNE)\n",
    ")\n",
    "#valDS = valDS.map(lambda x, y: (normalization_layer(x), y))\n",
    "\n",
    "# build the testing dataset and data input pipeline\n",
    "#testDS = tf.data.Dataset.from_tensor_slices((test_x, test_y))\n",
    "#testDS = (testDS\n",
    "    #.map(load_images, num_parallel_calls=AUTOTUNE)\n",
    "    #.cache()\n",
    "    #.batch(BATCH)\n",
    "    #.prefetch(AUTOTUNE)\n",
    "#)"
   ]
  },
  {
   "cell_type": "code",
   "execution_count": 9,
   "id": "corrected-jefferson",
   "metadata": {},
   "outputs": [
    {
     "data": {
      "text/plain": [
       "<PrefetchDataset shapes: ((None, 224, 224, 3), (None, 224, 224, 1)), types: (tf.float32, tf.float32)>"
      ]
     },
     "execution_count": 9,
     "metadata": {},
     "output_type": "execute_result"
    }
   ],
   "source": [
    "valDS"
   ]
  },
  {
   "cell_type": "code",
   "execution_count": 10,
   "id": "pending-caution",
   "metadata": {},
   "outputs": [],
   "source": [
    "model = MobileNetV3SmallSegmentation(alpha=1.0, shape=(224, 224), n_class=CLASS_NUM,\n",
    "                 avg_pool_kernel=(11, 11), avg_pool_strides=(4, 4),\n",
    "                 resize_method=ResizeMethod.BILINEAR, backbone='small')\n",
    "\n",
    "opt = Adam(lr=INIT_LR, clipvalue = 5.0)\n",
    "#opt = Adam(lr=INIT_LR, clip_norm = 1.0)\n",
    "\n",
    "#m = tf.keras.metrics.MeanIoU(CLASS_NUM)\n",
    "metrics = [dice_coef,\"accuracy\", IoU]\n",
    "#metrics = [dice_coef, \"accuracy\"]\n",
    "\n",
    "model.compile(loss=dice_loss, optimizer=opt, metrics=metrics)\n",
    "\n",
    "#callbacks = [ReduceLROnPlateau(monitor='val_loss', factor=0.1, patience=4)]"
   ]
  },
  {
   "cell_type": "code",
   "execution_count": 11,
   "id": "assumed-result",
   "metadata": {},
   "outputs": [],
   "source": [
    "train_steps = len(train_x)//BATCH\n",
    "valid_steps = len(valid_x)//BATCH\n",
    "\n",
    "if len(train_x) % BATCH != 0:\n",
    "    train_steps += 1\n",
    "    \n",
    "if len(valid_x) % BATCH != 0:\n",
    "    valid_steps += 1"
   ]
  },
  {
   "cell_type": "code",
   "execution_count": 12,
   "id": "italian-channel",
   "metadata": {
    "scrolled": true
   },
   "outputs": [
    {
     "name": "stdout",
     "output_type": "stream",
     "text": [
      "Epoch 1/100\n",
      "292/292 [==============================] - 199s 634ms/step - loss: 0.3209 - dice_coef: 0.6791 - accuracy: 0.7665 - IoU: 0.4965 - val_loss: 0.2985 - val_dice_coef: 0.7016 - val_accuracy: 0.8191 - val_IoU: 0.5255\n",
      "Epoch 2/100\n",
      "292/292 [==============================] - 149s 508ms/step - loss: 0.1887 - dice_coef: 0.8113 - accuracy: 0.8722 - IoU: 0.6491 - val_loss: nan - val_dice_coef: nan - val_accuracy: 0.8355 - val_IoU: 0.5648\n",
      "Epoch 3/100\n",
      "292/292 [==============================] - 146s 500ms/step - loss: 0.1755 - dice_coef: 0.8245 - accuracy: 0.8793 - IoU: 0.6674 - val_loss: nan - val_dice_coef: nan - val_accuracy: 0.8528 - val_IoU: 0.5754\n",
      "Epoch 4/100\n",
      "292/292 [==============================] - 146s 500ms/step - loss: 0.1575 - dice_coef: 0.8425 - accuracy: 0.8883 - IoU: 0.6913 - val_loss: nan - val_dice_coef: nan - val_accuracy: 0.8829 - val_IoU: 0.6778\n",
      "Epoch 5/100\n",
      "292/292 [==============================] - 147s 505ms/step - loss: 0.1379 - dice_coef: 0.8621 - accuracy: 0.8980 - IoU: 0.7192 - val_loss: nan - val_dice_coef: nan - val_accuracy: 0.8839 - val_IoU: 0.6810\n",
      "Epoch 6/100\n",
      "292/292 [==============================] - 145s 497ms/step - loss: 0.1264 - dice_coef: 0.8736 - accuracy: 0.9037 - IoU: 0.7358 - val_loss: nan - val_dice_coef: nan - val_accuracy: 0.8754 - val_IoU: 0.6561\n",
      "Epoch 7/100\n",
      "292/292 [==============================] - 148s 506ms/step - loss: 0.1195 - dice_coef: 0.8805 - accuracy: 0.9070 - IoU: 0.7457 - val_loss: nan - val_dice_coef: nan - val_accuracy: 0.8946 - val_IoU: 0.7060\n",
      "Epoch 8/100\n",
      "292/292 [==============================] - 147s 502ms/step - loss: 0.1142 - dice_coef: 0.8858 - accuracy: 0.9096 - IoU: 0.7533 - val_loss: nan - val_dice_coef: nan - val_accuracy: 0.9014 - val_IoU: 0.7274\n",
      "Epoch 9/100\n",
      "292/292 [==============================] - 145s 496ms/step - loss: 0.1112 - dice_coef: 0.8888 - accuracy: 0.9109 - IoU: 0.7571 - val_loss: nan - val_dice_coef: nan - val_accuracy: 0.9039 - val_IoU: 0.7338\n",
      "Epoch 10/100\n",
      "292/292 [==============================] - 145s 497ms/step - loss: 0.1075 - dice_coef: 0.8925 - accuracy: 0.9126 - IoU: 0.7629 - val_loss: nan - val_dice_coef: nan - val_accuracy: 0.9089 - val_IoU: 0.7541\n",
      "Epoch 11/100\n",
      "292/292 [==============================] - 145s 495ms/step - loss: 0.1067 - dice_coef: 0.8933 - accuracy: 0.9129 - IoU: 0.7641 - val_loss: nan - val_dice_coef: nan - val_accuracy: 0.9102 - val_IoU: 0.7524\n",
      "Epoch 12/100\n",
      "292/292 [==============================] - 146s 499ms/step - loss: 0.0995 - dice_coef: 0.9005 - accuracy: 0.9164 - IoU: 0.7746 - val_loss: 0.1115 - val_dice_coef: 0.8885 - val_accuracy: 0.9118 - val_IoU: 0.7551\n",
      "Epoch 13/100\n",
      "292/292 [==============================] - 145s 495ms/step - loss: 0.0948 - dice_coef: 0.9052 - accuracy: 0.9187 - IoU: 0.7816 - val_loss: 0.1031 - val_dice_coef: 0.8969 - val_accuracy: 0.9168 - val_IoU: 0.7778\n",
      "Epoch 14/100\n",
      "292/292 [==============================] - 147s 505ms/step - loss: 0.0936 - dice_coef: 0.9064 - accuracy: 0.9193 - IoU: 0.7836 - val_loss: nan - val_dice_coef: nan - val_accuracy: 0.9065 - val_IoU: 0.7381\n",
      "Epoch 15/100\n",
      "292/292 [==============================] - 145s 495ms/step - loss: 0.0926 - dice_coef: 0.9074 - accuracy: 0.9197 - IoU: 0.7853 - val_loss: nan - val_dice_coef: nan - val_accuracy: 0.9138 - val_IoU: 0.7642\n",
      "Epoch 16/100\n",
      "292/292 [==============================] - 145s 496ms/step - loss: 0.0884 - dice_coef: 0.9116 - accuracy: 0.9217 - IoU: 0.7913 - val_loss: nan - val_dice_coef: nan - val_accuracy: 0.9155 - val_IoU: 0.7729\n",
      "Epoch 17/100\n",
      "292/292 [==============================] - 147s 504ms/step - loss: 0.0874 - dice_coef: 0.9126 - accuracy: 0.9222 - IoU: 0.7931 - val_loss: nan - val_dice_coef: nan - val_accuracy: 0.9170 - val_IoU: 0.7736\n",
      "Epoch 18/100\n",
      "292/292 [==============================] - 146s 500ms/step - loss: 0.0860 - dice_coef: 0.9140 - accuracy: 0.9228 - IoU: 0.7951 - val_loss: nan - val_dice_coef: nan - val_accuracy: 0.9123 - val_IoU: 0.7654\n",
      "Epoch 19/100\n",
      "292/292 [==============================] - 151s 517ms/step - loss: 0.0835 - dice_coef: 0.9165 - accuracy: 0.9240 - IoU: 0.7994 - val_loss: 0.1003 - val_dice_coef: 0.8997 - val_accuracy: 0.9169 - val_IoU: 0.7730\n",
      "Epoch 20/100\n",
      "292/292 [==============================] - 145s 497ms/step - loss: 0.0854 - dice_coef: 0.9146 - accuracy: 0.9231 - IoU: 0.7958 - val_loss: 0.1036 - val_dice_coef: 0.8964 - val_accuracy: 0.9150 - val_IoU: 0.7665\n",
      "Epoch 21/100\n",
      "292/292 [==============================] - 145s 496ms/step - loss: 0.0804 - dice_coef: 0.9196 - accuracy: 0.9254 - IoU: 0.8035 - val_loss: nan - val_dice_coef: nan - val_accuracy: 0.9185 - val_IoU: 0.7760\n",
      "Epoch 22/100\n",
      "292/292 [==============================] - 145s 496ms/step - loss: 0.0787 - dice_coef: 0.9213 - accuracy: 0.9262 - IoU: 0.8060 - val_loss: 0.1024 - val_dice_coef: 0.8976 - val_accuracy: 0.9173 - val_IoU: 0.7761\n",
      "Epoch 23/100\n",
      "292/292 [==============================] - 145s 495ms/step - loss: 0.0761 - dice_coef: 0.9239 - accuracy: 0.9273 - IoU: 0.8099 - val_loss: 0.0910 - val_dice_coef: 0.9090 - val_accuracy: 0.9208 - val_IoU: 0.7846\n",
      "Epoch 24/100\n",
      "292/292 [==============================] - 149s 511ms/step - loss: 0.0748 - dice_coef: 0.9252 - accuracy: 0.9280 - IoU: 0.8122 - val_loss: 0.0930 - val_dice_coef: 0.9070 - val_accuracy: 0.9202 - val_IoU: 0.7839\n",
      "Epoch 25/100\n",
      "292/292 [==============================] - 147s 501ms/step - loss: 0.0742 - dice_coef: 0.9258 - accuracy: 0.9282 - IoU: 0.8131 - val_loss: nan - val_dice_coef: nan - val_accuracy: 0.9070 - val_IoU: 0.7425\n",
      "Epoch 26/100\n",
      "292/292 [==============================] - 150s 515ms/step - loss: 0.0764 - dice_coef: 0.9236 - accuracy: 0.9272 - IoU: 0.8100 - val_loss: 0.0927 - val_dice_coef: 0.9073 - val_accuracy: 0.9205 - val_IoU: 0.7847\n",
      "Epoch 27/100\n",
      "292/292 [==============================] - 151s 516ms/step - loss: 0.0721 - dice_coef: 0.9279 - accuracy: 0.9292 - IoU: 0.8162 - val_loss: 0.0907 - val_dice_coef: 0.9093 - val_accuracy: 0.9223 - val_IoU: 0.7930\n",
      "Epoch 28/100\n",
      "292/292 [==============================] - 145s 496ms/step - loss: 0.0713 - dice_coef: 0.9287 - accuracy: 0.9296 - IoU: 0.8177 - val_loss: 0.1045 - val_dice_coef: 0.8954 - val_accuracy: 0.9137 - val_IoU: 0.7628\n",
      "Epoch 29/100\n",
      "292/292 [==============================] - 145s 496ms/step - loss: 0.0715 - dice_coef: 0.9285 - accuracy: 0.9295 - IoU: 0.8171 - val_loss: 0.0864 - val_dice_coef: 0.9135 - val_accuracy: 0.9231 - val_IoU: 0.7922\n",
      "Epoch 30/100\n",
      "292/292 [==============================] - 145s 497ms/step - loss: 0.0698 - dice_coef: 0.9302 - accuracy: 0.9302 - IoU: 0.8196 - val_loss: 0.1061 - val_dice_coef: 0.8939 - val_accuracy: 0.9120 - val_IoU: 0.7552\n",
      "Epoch 31/100\n",
      "292/292 [==============================] - 145s 496ms/step - loss: 0.0730 - dice_coef: 0.9270 - accuracy: 0.9287 - IoU: 0.8146 - val_loss: 0.0888 - val_dice_coef: 0.9112 - val_accuracy: 0.9215 - val_IoU: 0.7834\n",
      "Epoch 32/100\n",
      "292/292 [==============================] - 145s 496ms/step - loss: 0.0684 - dice_coef: 0.9316 - accuracy: 0.9308 - IoU: 0.8215 - val_loss: 0.0944 - val_dice_coef: 0.9056 - val_accuracy: 0.9205 - val_IoU: 0.7914\n",
      "Epoch 33/100\n",
      "292/292 [==============================] - 145s 497ms/step - loss: 0.0683 - dice_coef: 0.9317 - accuracy: 0.9309 - IoU: 0.8222 - val_loss: nan - val_dice_coef: nan - val_accuracy: 0.9193 - val_IoU: 0.7777\n",
      "Epoch 34/100\n",
      "292/292 [==============================] - 145s 497ms/step - loss: 0.0685 - dice_coef: 0.9315 - accuracy: 0.9308 - IoU: 0.8219 - val_loss: 0.0918 - val_dice_coef: 0.9082 - val_accuracy: 0.9197 - val_IoU: 0.7786\n",
      "Epoch 35/100\n",
      "292/292 [==============================] - 145s 496ms/step - loss: 0.0665 - dice_coef: 0.9335 - accuracy: 0.9316 - IoU: 0.8250 - val_loss: 0.0834 - val_dice_coef: 0.9166 - val_accuracy: 0.9245 - val_IoU: 0.7958\n",
      "Epoch 36/100\n",
      "292/292 [==============================] - 145s 498ms/step - loss: 0.0670 - dice_coef: 0.9330 - accuracy: 0.9315 - IoU: 0.8242 - val_loss: 0.0963 - val_dice_coef: 0.9037 - val_accuracy: 0.9193 - val_IoU: 0.7856\n",
      "Epoch 37/100\n",
      "292/292 [==============================] - 145s 497ms/step - loss: 0.0677 - dice_coef: 0.9323 - accuracy: 0.9311 - IoU: 0.8230 - val_loss: 0.1114 - val_dice_coef: 0.8886 - val_accuracy: 0.9124 - val_IoU: 0.7630\n",
      "Epoch 38/100\n"
     ]
    },
    {
     "name": "stdout",
     "output_type": "stream",
     "text": [
      "292/292 [==============================] - 145s 495ms/step - loss: 0.0688 - dice_coef: 0.9312 - accuracy: 0.9307 - IoU: 0.8209 - val_loss: 0.0817 - val_dice_coef: 0.9183 - val_accuracy: 0.9257 - val_IoU: 0.8032\n",
      "Epoch 39/100\n",
      "292/292 [==============================] - 145s 496ms/step - loss: 0.0641 - dice_coef: 0.9359 - accuracy: 0.9327 - IoU: 0.8283 - val_loss: 0.0877 - val_dice_coef: 0.9123 - val_accuracy: 0.9230 - val_IoU: 0.7897\n",
      "Epoch 40/100\n",
      "292/292 [==============================] - 145s 496ms/step - loss: 0.0632 - dice_coef: 0.9368 - accuracy: 0.9331 - IoU: 0.8298 - val_loss: 0.0822 - val_dice_coef: 0.9178 - val_accuracy: 0.9247 - val_IoU: 0.7959\n",
      "Epoch 41/100\n",
      "292/292 [==============================] - 145s 495ms/step - loss: 0.0615 - dice_coef: 0.9385 - accuracy: 0.9339 - IoU: 0.8322 - val_loss: 0.0893 - val_dice_coef: 0.9107 - val_accuracy: 0.9219 - val_IoU: 0.7878\n",
      "Epoch 42/100\n",
      "292/292 [==============================] - 145s 496ms/step - loss: 0.0643 - dice_coef: 0.9357 - accuracy: 0.9327 - IoU: 0.8281 - val_loss: 0.1016 - val_dice_coef: 0.8984 - val_accuracy: 0.9168 - val_IoU: 0.7695\n",
      "Epoch 43/100\n",
      "292/292 [==============================] - 145s 495ms/step - loss: 0.0647 - dice_coef: 0.9353 - accuracy: 0.9324 - IoU: 0.8273 - val_loss: 0.0838 - val_dice_coef: 0.9162 - val_accuracy: 0.9248 - val_IoU: 0.7990\n",
      "Epoch 44/100\n",
      "292/292 [==============================] - 145s 496ms/step - loss: 0.0612 - dice_coef: 0.9388 - accuracy: 0.9341 - IoU: 0.8329 - val_loss: nan - val_dice_coef: nan - val_accuracy: 0.9208 - val_IoU: 0.7868\n",
      "Epoch 45/100\n",
      "292/292 [==============================] - 145s 496ms/step - loss: 0.0623 - dice_coef: 0.9377 - accuracy: 0.9335 - IoU: 0.8312 - val_loss: 0.0865 - val_dice_coef: 0.9135 - val_accuracy: 0.9235 - val_IoU: 0.7948\n",
      "Epoch 46/100\n",
      "292/292 [==============================] - 145s 495ms/step - loss: 0.0629 - dice_coef: 0.9371 - accuracy: 0.9333 - IoU: 0.8302 - val_loss: 0.0811 - val_dice_coef: 0.9189 - val_accuracy: 0.9256 - val_IoU: 0.7991\n",
      "Epoch 47/100\n",
      "292/292 [==============================] - 145s 496ms/step - loss: 0.0617 - dice_coef: 0.9383 - accuracy: 0.9338 - IoU: 0.8318 - val_loss: 0.0845 - val_dice_coef: 0.9155 - val_accuracy: 0.9249 - val_IoU: 0.8021\n",
      "Epoch 48/100\n",
      "292/292 [==============================] - 145s 496ms/step - loss: 0.0624 - dice_coef: 0.9376 - accuracy: 0.9335 - IoU: 0.8309 - val_loss: 0.0801 - val_dice_coef: 0.9199 - val_accuracy: 0.9267 - val_IoU: 0.8042\n",
      "Epoch 49/100\n",
      "292/292 [==============================] - 147s 503ms/step - loss: 0.0608 - dice_coef: 0.9392 - accuracy: 0.9342 - IoU: 0.8334 - val_loss: 0.0806 - val_dice_coef: 0.9194 - val_accuracy: 0.9260 - val_IoU: 0.8019\n",
      "Epoch 50/100\n",
      "292/292 [==============================] - 145s 496ms/step - loss: 0.0592 - dice_coef: 0.9408 - accuracy: 0.9349 - IoU: 0.8360 - val_loss: 0.0864 - val_dice_coef: 0.9136 - val_accuracy: 0.9224 - val_IoU: 0.7854\n",
      "Epoch 51/100\n",
      "292/292 [==============================] - 145s 496ms/step - loss: 0.0594 - dice_coef: 0.9406 - accuracy: 0.9348 - IoU: 0.8354 - val_loss: 0.0783 - val_dice_coef: 0.9217 - val_accuracy: 0.9262 - val_IoU: 0.7982\n",
      "Epoch 52/100\n",
      "292/292 [==============================] - 150s 513ms/step - loss: 0.0592 - dice_coef: 0.9408 - accuracy: 0.9349 - IoU: 0.8359 - val_loss: 0.0849 - val_dice_coef: 0.9151 - val_accuracy: 0.9242 - val_IoU: 0.7958\n",
      "Epoch 53/100\n",
      "292/292 [==============================] - 7987s 27s/step - loss: 0.0590 - dice_coef: 0.9410 - accuracy: 0.9350 - IoU: 0.8360 - val_loss: 0.0778 - val_dice_coef: 0.9222 - val_accuracy: 0.9269 - val_IoU: 0.8044\n",
      "Epoch 54/100\n",
      "292/292 [==============================] - 145s 496ms/step - loss: 0.0592 - dice_coef: 0.9408 - accuracy: 0.9349 - IoU: 0.8358 - val_loss: 0.0841 - val_dice_coef: 0.9159 - val_accuracy: 0.9250 - val_IoU: 0.8018\n",
      "Epoch 55/100\n",
      "292/292 [==============================] - 157s 536ms/step - loss: 0.0712 - dice_coef: 0.9288 - accuracy: 0.9293 - IoU: 0.8167 - val_loss: 0.0848 - val_dice_coef: 0.9152 - val_accuracy: 0.9233 - val_IoU: 0.7921\n",
      "Epoch 56/100\n",
      "292/292 [==============================] - 146s 501ms/step - loss: 0.0609 - dice_coef: 0.9391 - accuracy: 0.9341 - IoU: 0.8331 - val_loss: 0.0783 - val_dice_coef: 0.9217 - val_accuracy: 0.9263 - val_IoU: 0.7998\n",
      "Epoch 57/100\n",
      "292/292 [==============================] - 147s 502ms/step - loss: 0.0562 - dice_coef: 0.9438 - accuracy: 0.9362 - IoU: 0.8403 - val_loss: 0.0746 - val_dice_coef: 0.9254 - val_accuracy: 0.9285 - val_IoU: 0.8092\n",
      "Epoch 58/100\n",
      "292/292 [==============================] - 146s 499ms/step - loss: 0.0551 - dice_coef: 0.9449 - accuracy: 0.9367 - IoU: 0.8420 - val_loss: 0.0781 - val_dice_coef: 0.9219 - val_accuracy: 0.9270 - val_IoU: 0.8086\n",
      "Epoch 59/100\n",
      "292/292 [==============================] - 145s 497ms/step - loss: 0.0559 - dice_coef: 0.9441 - accuracy: 0.9363 - IoU: 0.8406 - val_loss: nan - val_dice_coef: nan - val_accuracy: 0.9030 - val_IoU: 0.7375\n",
      "Epoch 60/100\n",
      "292/292 [==============================] - 145s 496ms/step - loss: 0.0695 - dice_coef: 0.9305 - accuracy: 0.9302 - IoU: 0.8201 - val_loss: nan - val_dice_coef: nan - val_accuracy: 0.9251 - val_IoU: 0.7998\n",
      "Epoch 61/100\n",
      "292/292 [==============================] - 146s 501ms/step - loss: 0.0601 - dice_coef: 0.9399 - accuracy: 0.9345 - IoU: 0.8345 - val_loss: 0.0849 - val_dice_coef: 0.9151 - val_accuracy: 0.9226 - val_IoU: 0.7910\n",
      "Epoch 62/100\n",
      "292/292 [==============================] - 145s 496ms/step - loss: 0.0580 - dice_coef: 0.9420 - accuracy: 0.9354 - IoU: 0.8374 - val_loss: nan - val_dice_coef: nan - val_accuracy: 0.9278 - val_IoU: 0.8073\n",
      "Epoch 63/100\n",
      "292/292 [==============================] - 145s 496ms/step - loss: 0.0549 - dice_coef: 0.9451 - accuracy: 0.9368 - IoU: 0.8424 - val_loss: 0.0754 - val_dice_coef: 0.9246 - val_accuracy: 0.9277 - val_IoU: 0.8052\n",
      "Epoch 64/100\n",
      "292/292 [==============================] - 145s 496ms/step - loss: 0.0534 - dice_coef: 0.9466 - accuracy: 0.9374 - IoU: 0.8444 - val_loss: 0.0751 - val_dice_coef: 0.9249 - val_accuracy: 0.9281 - val_IoU: 0.8057\n",
      "Epoch 65/100\n",
      "292/292 [==============================] - 145s 496ms/step - loss: 0.0533 - dice_coef: 0.9467 - accuracy: 0.9375 - IoU: 0.8447 - val_loss: 0.0765 - val_dice_coef: 0.9235 - val_accuracy: 0.9272 - val_IoU: 0.8063\n",
      "Epoch 66/100\n",
      "292/292 [==============================] - 145s 496ms/step - loss: 0.0581 - dice_coef: 0.9419 - accuracy: 0.9353 - IoU: 0.8372 - val_loss: nan - val_dice_coef: nan - val_accuracy: 0.8684 - val_IoU: 0.6253\n",
      "Epoch 67/100\n",
      "292/292 [==============================] - 147s 502ms/step - loss: 0.0837 - dice_coef: 0.9163 - accuracy: 0.9236 - IoU: 0.7979 - val_loss: 0.0845 - val_dice_coef: 0.9156 - val_accuracy: 0.9239 - val_IoU: 0.7872\n",
      "Epoch 68/100\n",
      "292/292 [==============================] - 146s 499ms/step - loss: 0.0616 - dice_coef: 0.9384 - accuracy: 0.9338 - IoU: 0.8316 - val_loss: 0.0729 - val_dice_coef: 0.9272 - val_accuracy: 0.9290 - val_IoU: 0.8112\n",
      "Epoch 69/100\n",
      "292/292 [==============================] - 147s 504ms/step - loss: 0.0551 - dice_coef: 0.9449 - accuracy: 0.9367 - IoU: 0.8421 - val_loss: 0.0719 - val_dice_coef: 0.9281 - val_accuracy: 0.9296 - val_IoU: 0.8122\n",
      "Epoch 70/100\n",
      "292/292 [==============================] - 145s 497ms/step - loss: 0.0532 - dice_coef: 0.9468 - accuracy: 0.9375 - IoU: 0.8448 - val_loss: 0.0732 - val_dice_coef: 0.9268 - val_accuracy: 0.9291 - val_IoU: 0.8123\n",
      "Epoch 71/100\n",
      "292/292 [==============================] - 145s 496ms/step - loss: 0.0521 - dice_coef: 0.9479 - accuracy: 0.9380 - IoU: 0.8463 - val_loss: 0.0723 - val_dice_coef: 0.9277 - val_accuracy: 0.9296 - val_IoU: 0.8129\n",
      "Epoch 72/100\n",
      "292/292 [==============================] - 147s 503ms/step - loss: 0.0521 - dice_coef: 0.9479 - accuracy: 0.9380 - IoU: 0.8466 - val_loss: 0.0778 - val_dice_coef: 0.9222 - val_accuracy: 0.9260 - val_IoU: 0.7992\n",
      "Epoch 73/100\n",
      "292/292 [==============================] - 146s 499ms/step - loss: 0.0527 - dice_coef: 0.9473 - accuracy: 0.9377 - IoU: 0.8458 - val_loss: 0.0787 - val_dice_coef: 0.9213 - val_accuracy: 0.9265 - val_IoU: 0.8062\n",
      "Epoch 74/100\n",
      "292/292 [==============================] - 145s 496ms/step - loss: 0.0536 - dice_coef: 0.9464 - accuracy: 0.9373 - IoU: 0.8444 - val_loss: 0.0885 - val_dice_coef: 0.9115 - val_accuracy: 0.9222 - val_IoU: 0.7913\n"
     ]
    },
    {
     "name": "stdout",
     "output_type": "stream",
     "text": [
      "Epoch 75/100\n",
      "292/292 [==============================] - 145s 496ms/step - loss: 0.0574 - dice_coef: 0.9426 - accuracy: 0.9356 - IoU: 0.8384 - val_loss: 0.0742 - val_dice_coef: 0.9258 - val_accuracy: 0.9285 - val_IoU: 0.8089\n",
      "Epoch 76/100\n",
      "292/292 [==============================] - 145s 496ms/step - loss: 0.0535 - dice_coef: 0.9465 - accuracy: 0.9373 - IoU: 0.8443 - val_loss: 0.0778 - val_dice_coef: 0.9222 - val_accuracy: 0.9267 - val_IoU: 0.8036\n",
      "Epoch 77/100\n",
      "292/292 [==============================] - 145s 496ms/step - loss: 0.0547 - dice_coef: 0.9453 - accuracy: 0.9368 - IoU: 0.8425 - val_loss: 0.0796 - val_dice_coef: 0.9204 - val_accuracy: 0.9254 - val_IoU: 0.7966\n",
      "Epoch 78/100\n",
      "292/292 [==============================] - 149s 509ms/step - loss: 0.0546 - dice_coef: 0.9454 - accuracy: 0.9369 - IoU: 0.8426 - val_loss: 0.0883 - val_dice_coef: 0.9117 - val_accuracy: 0.9227 - val_IoU: 0.7906\n",
      "Epoch 79/100\n",
      "292/292 [==============================] - 145s 496ms/step - loss: 0.0561 - dice_coef: 0.9439 - accuracy: 0.9362 - IoU: 0.8403 - val_loss: 0.0768 - val_dice_coef: 0.9232 - val_accuracy: 0.9267 - val_IoU: 0.7977\n",
      "Epoch 80/100\n",
      "292/292 [==============================] - 145s 496ms/step - loss: 0.0528 - dice_coef: 0.9472 - accuracy: 0.9377 - IoU: 0.8453 - val_loss: 0.0718 - val_dice_coef: 0.9282 - val_accuracy: 0.9298 - val_IoU: 0.8175\n",
      "Epoch 81/100\n",
      "292/292 [==============================] - 145s 496ms/step - loss: 0.0525 - dice_coef: 0.9475 - accuracy: 0.9378 - IoU: 0.8459 - val_loss: 0.0828 - val_dice_coef: 0.9172 - val_accuracy: 0.9239 - val_IoU: 0.7940\n",
      "Epoch 82/100\n",
      "292/292 [==============================] - 145s 498ms/step - loss: 0.0579 - dice_coef: 0.9421 - accuracy: 0.9354 - IoU: 0.8375 - val_loss: 0.0805 - val_dice_coef: 0.9195 - val_accuracy: 0.9259 - val_IoU: 0.8034\n",
      "Epoch 83/100\n",
      "292/292 [==============================] - 145s 496ms/step - loss: 0.0679 - dice_coef: 0.9321 - accuracy: 0.9309 - IoU: 0.8228 - val_loss: 0.0811 - val_dice_coef: 0.9189 - val_accuracy: 0.9248 - val_IoU: 0.7966\n",
      "Epoch 84/100\n",
      "292/292 [==============================] - 145s 497ms/step - loss: 0.0610 - dice_coef: 0.9390 - accuracy: 0.9340 - IoU: 0.8324 - val_loss: 0.0782 - val_dice_coef: 0.9218 - val_accuracy: 0.9267 - val_IoU: 0.8045\n",
      "Epoch 85/100\n",
      "292/292 [==============================] - 145s 496ms/step - loss: 0.0555 - dice_coef: 0.9445 - accuracy: 0.9365 - IoU: 0.8415 - val_loss: 0.0731 - val_dice_coef: 0.9269 - val_accuracy: 0.9291 - val_IoU: 0.8110\n",
      "Epoch 86/100\n",
      "292/292 [==============================] - 145s 497ms/step - loss: 0.0522 - dice_coef: 0.9478 - accuracy: 0.9380 - IoU: 0.8465 - val_loss: 0.0735 - val_dice_coef: 0.9265 - val_accuracy: 0.9286 - val_IoU: 0.8090\n",
      "Epoch 87/100\n",
      "292/292 [==============================] - 145s 496ms/step - loss: 0.0504 - dice_coef: 0.9496 - accuracy: 0.9387 - IoU: 0.8493 - val_loss: 0.0713 - val_dice_coef: 0.9287 - val_accuracy: 0.9298 - val_IoU: 0.8127\n",
      "Epoch 88/100\n",
      "292/292 [==============================] - 145s 496ms/step - loss: 0.0504 - dice_coef: 0.9496 - accuracy: 0.9387 - IoU: 0.8492 - val_loss: 0.0735 - val_dice_coef: 0.9265 - val_accuracy: 0.9293 - val_IoU: 0.8172\n",
      "Epoch 89/100\n",
      "292/292 [==============================] - 145s 496ms/step - loss: 0.0511 - dice_coef: 0.9489 - accuracy: 0.9384 - IoU: 0.8480 - val_loss: 0.0845 - val_dice_coef: 0.9155 - val_accuracy: 0.9244 - val_IoU: 0.7934\n",
      "Epoch 90/100\n",
      "292/292 [==============================] - 145s 497ms/step - loss: 0.0522 - dice_coef: 0.9478 - accuracy: 0.9379 - IoU: 0.8466 - val_loss: 0.0762 - val_dice_coef: 0.9238 - val_accuracy: 0.9275 - val_IoU: 0.8061\n",
      "Epoch 91/100\n",
      "292/292 [==============================] - 145s 496ms/step - loss: 0.0526 - dice_coef: 0.9474 - accuracy: 0.9377 - IoU: 0.8458 - val_loss: 0.0771 - val_dice_coef: 0.9229 - val_accuracy: 0.9274 - val_IoU: 0.8077\n",
      "Epoch 92/100\n",
      "292/292 [==============================] - 147s 502ms/step - loss: 0.0516 - dice_coef: 0.9484 - accuracy: 0.9382 - IoU: 0.8472 - val_loss: nan - val_dice_coef: nan - val_accuracy: 0.9277 - val_IoU: 0.8054\n",
      "Epoch 93/100\n",
      "292/292 [==============================] - 145s 496ms/step - loss: 0.0534 - dice_coef: 0.9466 - accuracy: 0.9374 - IoU: 0.8444 - val_loss: 0.0787 - val_dice_coef: 0.9213 - val_accuracy: 0.9262 - val_IoU: 0.7985\n",
      "Epoch 94/100\n",
      "292/292 [==============================] - 147s 502ms/step - loss: 0.0510 - dice_coef: 0.9490 - accuracy: 0.9384 - IoU: 0.8483 - val_loss: 0.0725 - val_dice_coef: 0.9274 - val_accuracy: 0.9291 - val_IoU: 0.8120\n",
      "Epoch 95/100\n",
      "292/292 [==============================] - 145s 496ms/step - loss: 0.0492 - dice_coef: 0.9508 - accuracy: 0.9392 - IoU: 0.8509 - val_loss: 0.0794 - val_dice_coef: 0.9206 - val_accuracy: 0.9253 - val_IoU: 0.7987\n",
      "Epoch 96/100\n",
      "292/292 [==============================] - 145s 496ms/step - loss: 0.0532 - dice_coef: 0.9468 - accuracy: 0.9375 - IoU: 0.8451 - val_loss: 0.1364 - val_dice_coef: 0.8636 - val_accuracy: 0.9048 - val_IoU: 0.7369\n",
      "Epoch 97/100\n",
      "292/292 [==============================] - 145s 496ms/step - loss: 0.0537 - dice_coef: 0.9463 - accuracy: 0.9372 - IoU: 0.8440 - val_loss: 0.0796 - val_dice_coef: 0.9204 - val_accuracy: 0.9263 - val_IoU: 0.8005\n",
      "Epoch 98/100\n",
      "292/292 [==============================] - 147s 502ms/step - loss: 0.0520 - dice_coef: 0.9480 - accuracy: 0.9380 - IoU: 0.8467 - val_loss: 0.0775 - val_dice_coef: 0.9225 - val_accuracy: 0.9273 - val_IoU: 0.8057\n",
      "Epoch 99/100\n",
      "292/292 [==============================] - 145s 496ms/step - loss: 0.0522 - dice_coef: 0.9478 - accuracy: 0.9379 - IoU: 0.8465 - val_loss: nan - val_dice_coef: nan - val_accuracy: 0.8976 - val_IoU: 0.7168\n",
      "Epoch 100/100\n",
      "292/292 [==============================] - 145s 496ms/step - loss: 0.0605 - dice_coef: 0.9395 - accuracy: 0.9342 - IoU: 0.8334 - val_loss: 0.0759 - val_dice_coef: 0.9241 - val_accuracy: 0.9274 - val_IoU: 0.8025\n"
     ]
    }
   ],
   "source": [
    "H = model.fit(\n",
    "    trainDS,\n",
    "    validation_data=valDS,\n",
    "    epochs=EPOCHS,\n",
    "    steps_per_epoch=train_steps,\n",
    "    validation_steps=valid_steps,\n",
    ")"
   ]
  },
  {
   "cell_type": "code",
   "execution_count": 13,
   "id": "breeding-advance",
   "metadata": {},
   "outputs": [
    {
     "data": {
      "text/plain": [
       "<matplotlib.legend.Legend at 0x216c2780ba8>"
      ]
     },
     "execution_count": 13,
     "metadata": {},
     "output_type": "execute_result"
    },
    {
     "data": {
      "image/png": "[encoded data removed]",
      "text/plain": [
       "<Figure size 432x288 with 1 Axes>"
      ]
     },
     "metadata": {},
     "output_type": "display_data"
    }
   ],
   "source": [
    "# determine the number of epochs and then construct the plot title\n",
    "title = \"Training Loss\"\n",
    "\n",
    "# plot the training loss and accuracy\n",
    "plt.style.use(\"ggplot\")\n",
    "plt.figure()\n",
    "plt.plot(H.history[\"loss\"], label=\"train_loss\")\n",
    "plt.plot(H.history[\"val_loss\"], label=\"val_loss\")\n",
    "plt.plot(H.history[\"IoU\"], label=\"Intersection Over Union\")\n",
    "plt.plot(H.history[\"accuracy\"], label=\"train_acc\")\n",
    "plt.plot(H.history[\"val_accuracy\"], label=\"val_acc\")\n",
    "plt.title(title)\n",
    "plt.xlabel(\"Epoch #\")\n",
    "plt.ylabel(\"Loss/Accuracy\")\n",
    "plt.legend()"
   ]
  },
  {
   "cell_type": "code",
   "execution_count": 14,
   "id": "involved-knowing",
   "metadata": {
    "scrolled": true
   },
   "outputs": [
    {
     "name": "stdout",
     "output_type": "stream",
     "text": [
      "73/73 [==============================] - 10s 139ms/step - loss: 0.0759 - dice_coef: 0.9241 - accuracy: 0.9274 - IoU: 0.8025\n"
     ]
    },
    {
     "data": {
      "text/plain": [
       "[0.07588283717632294,\n",
       " 0.9241166710853577,\n",
       " 0.9274172782897949,\n",
       " 0.8024625182151794]"
      ]
     },
     "execution_count": 14,
     "metadata": {},
     "output_type": "execute_result"
    }
   ],
   "source": [
    "test_steps = (len(valid_x)//BATCH)\n",
    "\n",
    "if len(valid_x) % BATCH != 0:\n",
    "    test_steps += 1\n",
    "\n",
    "model.evaluate(valDS, steps=test_steps)"
   ]
  },
  {
   "cell_type": "code",
   "execution_count": 15,
   "id": "statistical-climb",
   "metadata": {},
   "outputs": [
    {
     "name": "stderr",
     "output_type": "stream",
     "text": [
      "WARNING:absl:Found untraced functions such as conv_block_layer_call_and_return_conditional_losses, conv_block_layer_call_fn, bottleneck_layer_call_and_return_conditional_losses, bottleneck_layer_call_fn, bottleneck_1_layer_call_and_return_conditional_losses while saving (showing 5 of 285). These functions will not be directly callable after loading.\n",
      "WARNING:absl:Found untraced functions such as conv_block_layer_call_and_return_conditional_losses, conv_block_layer_call_fn, bottleneck_layer_call_and_return_conditional_losses, bottleneck_layer_call_fn, bottleneck_1_layer_call_and_return_conditional_losses while saving (showing 5 of 285). These functions will not be directly callable after loading.\n"
     ]
    }
   ],
   "source": [
    "converter = tf.lite.TFLiteConverter.from_keras_model(model)\n",
    "tflite_model = converter.convert()"
   ]
  },
  {
   "cell_type": "code",
   "execution_count": 16,
   "id": "controlling-allocation",
   "metadata": {},
   "outputs": [],
   "source": [
    "# Save the model.\n",
    "with open('AHP_Original_3905_Images_with_dicecoef&ZoomImg.tflite', 'wb') as f:\n",
    "    f.write(tflite_model)"
   ]
  },
  {
   "cell_type": "code",
   "execution_count": 17,
   "id": "national-duration",
   "metadata": {},
   "outputs": [],
   "source": [
    "def read_test_image(path):\n",
    "    x = cv2.imread(path, cv2.IMREAD_COLOR)\n",
    "    x = cv2.cvtColor(x, cv2.COLOR_BGR2RGB)\n",
    "    x = cv2.resize(x, (IMAGE_SIZE, IMAGE_SIZE))\n",
    "    x = x/255.0\n",
    "    return x\n",
    "\n",
    "def read_test_mask(path):\n",
    "    x = cv2.imread(path, cv2.IMREAD_GRAYSCALE)\n",
    "    x = cv2.resize(x, (IMAGE_SIZE, IMAGE_SIZE))\n",
    "    x = np.expand_dims(x, axis=-1)\n",
    "    #x = x/255.0\n",
    "    return x\n",
    "\n",
    "def mask_parse(mask):\n",
    "    mask = np.squeeze(mask)\n",
    "    mask = [mask, mask, mask]\n",
    "    mask = np.transpose(mask, (1, 2, 0))\n",
    "    return mask"
   ]
  },
  {
   "cell_type": "code",
   "execution_count": 18,
   "id": "native-february",
   "metadata": {},
   "outputs": [],
   "source": [
    "# import cv2\n",
    "# for i, (x, y) in enumerate(zip(valid_x[:390], valid_y[:390])):\n",
    "#     x = read_test_image(x)\n",
    "#     y = read_test_mask(y)\n",
    "#     y_pred = model.predict(np.expand_dims(x, axis=0))[0] > 0.5\n",
    "#     h, w, _ = x.shape\n",
    "#     white_line = np.ones((h, 10, 3))\n",
    "\n",
    "#     all_images = [\n",
    "#         x, white_line,\n",
    "#         mask_parse(y), white_line,\n",
    "#         mask_parse(y_pred)\n",
    "#     ]\n",
    "#     image = np.concatenate(all_images, axis=1)\n",
    "    \n",
    "#     fig = plt.figure(figsize=(12, 12))\n",
    "#     a = fig.add_subplot(1, 1, 1)\n",
    "#     imgplot = plt.imshow(image)"
   ]
  },
  {
   "cell_type": "code",
   "execution_count": 19,
   "id": "worldwide-exemption",
   "metadata": {},
   "outputs": [],
   "source": [
    "#model.save(\"C:\\Users\\alext\\Desktop\\AHP\\model\")"
   ]
  },
  {
   "cell_type": "code",
   "execution_count": null,
   "id": "5492fb52",
   "metadata": {},
   "outputs": [],
   "source": []
  }
 ],
 "metadata": {
  "kernelspec": {
   "display_name": "Python 3 (ipykernel)",
   "language": "python",
   "name": "python3"
  },
  "language_info": {
   "codemirror_mode": {
    "name": "ipython",
    "version": 3
   },
   "file_extension": ".py",
   "mimetype": "text/x-python",
   "name": "python",
   "nbconvert_exporter": "python",
   "pygments_lexer": "ipython3",
   "version": "3.7.0"
  }
 },
 "nbformat": 4,
 "nbformat_minor": 5
}
